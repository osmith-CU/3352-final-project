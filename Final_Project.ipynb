{
 "cells": [
  {
   "cell_type": "markdown",
   "id": "4e8ddb15-c550-4399-91a5-fe13d4caa321",
   "metadata": {},
   "source": [
    "---\n",
    "\n",
    "# CSCI 3352, Spring 2022\n",
    "# FINAL PROJECT\n",
    "\n",
    "<br> \n",
    "\n",
    "### Owen Smith, Kyle Ma\n",
    "\n",
    "<br> "
   ]
  },
  {
   "cell_type": "code",
   "execution_count": null,
   "id": "fc48e2cb-31cc-45e7-84ee-dc5aad04b535",
   "metadata": {},
   "outputs": [],
   "source": []
  }
 ],
 "metadata": {
  "kernelspec": {
   "display_name": "Python 3",
   "language": "python",
   "name": "python3"
  },
  "language_info": {
   "codemirror_mode": {
    "name": "ipython",
    "version": 3
   },
   "file_extension": ".py",
   "mimetype": "text/x-python",
   "name": "python",
   "nbconvert_exporter": "python",
   "pygments_lexer": "ipython3",
   "version": "3.8.8"
  }
 },
 "nbformat": 4,
 "nbformat_minor": 5
}

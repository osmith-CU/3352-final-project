{
 "cells": [
  {
   "cell_type": "markdown",
   "id": "4e8ddb15-c550-4399-91a5-fe13d4caa321",
   "metadata": {},
   "source": [
    "---\n",
    "\n",
    "# CSCI 3352, Spring 2022\n",
    "# FINAL PROJECT\n",
    "\n",
    "<br> \n",
    "\n",
    "### Owen Smith, Kyle Ma\n",
    "\n",
    "<br> "
   ]
  },
  {
   "cell_type": "code",
   "execution_count": 2,
   "id": "fc48e2cb-31cc-45e7-84ee-dc5aad04b535",
   "metadata": {},
   "outputs": [],
   "source": [
    "import os\n",
    "import numpy as np\n",
    "import pandas as pd\n",
    "import networkx as nx\n",
    "import math\n",
    "import csv"
   ]
  },
  {
   "cell_type": "code",
   "execution_count": 3,
   "id": "b756ecc1-17d2-40d0-9063-2ca65c48c47f",
   "metadata": {},
   "outputs": [],
   "source": [
    "### ITERATE THROUGH NETWORKS DIRECTORY, HANDLE FILES ###\n",
    "directory = 'networks'\n",
    "for filename in os.scandir(directory):\n",
    "    filename = filename.name\n",
    "    name, ext = os.path.splitext(filename)\n",
    "    ext = str(ext)[0:4]\n",
    "    if ext == '.csv' and filename != 'references.csv':\n",
    "        data = np.loadtxt(open(directory + '/' + filename, \"rb\"), delimiter=\",\", skiprows=1)\n",
    "        edgelist = ''\n",
    "        listfile = open(directory + '/' + filename[:-4] + '.txt', 'w')\n",
    "        for row in range(0, len(data)):\n",
    "            for col in range(0, len(data[row])):\n",
    "                if data[row][col] != 0:\n",
    "                    edgelist = edgelist + str(row) + ' ' + str(col) + '\\n'\n",
    "        d = listfile.write(edgelist)\n",
    "        listfile.close()\n",
    "#     if ext == '.paj':\n",
    "#         G = nx.read_pajek(directory + '/' + filename)\n",
    "#         print(filename)\n",
    "#         nx.draw(G)"
   ]
  },
  {
   "cell_type": "code",
   "execution_count": 4,
   "id": "03b538fb-963f-4fdd-b7a6-2cb3cc4dee64",
   "metadata": {},
   "outputs": [],
   "source": [
    "# takes in a graph G and returns a list of network statistics\n",
    "def gather_network_stats(G):\n",
    "    "
   ]
  },
  {
   "cell_type": "code",
   "execution_count": 22,
   "id": "5137335a-eff1-45ac-a0f4-b0e84beee152",
   "metadata": {},
   "outputs": [],
   "source": [
    "directory = 'networks'\n",
    "for filename in os.scandir(directory):\n",
    "    filename = filename.name\n",
    "    name, ext = os.path.splitext(filename)\n",
    "    ext = str(ext)[0:4]\n",
    "    if ext == '.txt' and filename != 'README':\n",
    "        G = nx.read_edgelist(directory + '/' + filename)\n",
    "    if ext == '.paj':\n",
    "        G = nx.read_pajek(directory + '/' + filename)\n",
    "    network_stats = []\n",
    "    "
   ]
  },
  {
   "cell_type": "code",
   "execution_count": null,
   "id": "f6479331-5f5f-4c12-a134-552e8af25d24",
   "metadata": {},
   "outputs": [],
   "source": []
  }
 ],
 "metadata": {
  "kernelspec": {
   "display_name": "Python 3 (ipykernel)",
   "language": "python",
   "name": "python3"
  },
  "language_info": {
   "codemirror_mode": {
    "name": "ipython",
    "version": 3
   },
   "file_extension": ".py",
   "mimetype": "text/x-python",
   "name": "python",
   "nbconvert_exporter": "python",
   "pygments_lexer": "ipython3",
   "version": "3.9.7"
  }
 },
 "nbformat": 4,
 "nbformat_minor": 5
}

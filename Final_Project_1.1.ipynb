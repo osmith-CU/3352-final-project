{
 "cells": [
  {
   "cell_type": "markdown",
   "id": "4e8ddb15-c550-4399-91a5-fe13d4caa321",
   "metadata": {},
   "source": [
    "---\n",
    "\n",
    "# CSCI 3352, Spring 2022\n",
    "# FINAL PROJECT\n",
    "\n",
    "<br> \n",
    "\n",
    "### Owen Smith, Kyle Ma\n",
    "\n",
    "<br> "
   ]
  },
  {
   "cell_type": "code",
   "execution_count": 10,
   "id": "fc48e2cb-31cc-45e7-84ee-dc5aad04b535",
   "metadata": {},
   "outputs": [],
   "source": [
    "import os\n",
    "import numpy as np\n",
    "import pandas as pd\n",
    "import networkx as nx\n",
    "import math\n",
    "import matplotlib\n",
    "import matplotlib.pylab as plt\n",
    "from sklearn.tree import DecisionTreeRegressor\n",
    "from sklearn import linear_model\n",
    "from pyvis.network import Network\n",
    "import csv"
   ]
  },
  {
   "cell_type": "code",
   "execution_count": 11,
   "id": "b756ecc1-17d2-40d0-9063-2ca65c48c47f",
   "metadata": {},
   "outputs": [],
   "source": [
    "### ITERATE THROUGH NETWORKS DIRECTORY, HANDLE FILES ###\n",
    "directory = 'networks'\n",
    "for filename in os.scandir(directory):\n",
    "    filename = filename.name\n",
    "    name, ext = os.path.splitext(filename)\n",
    "    ext = str(ext)[0:4]\n",
    "    if ext == '.csv' and filename != 'references.csv':\n",
    "        data = np.loadtxt(open(directory + '/' + filename, \"rb\"), delimiter=\",\", skiprows=1)\n",
    "        edgelist = ''\n",
    "        listfile = open(directory + '/' + filename[:-4] + '.txt', 'w')\n",
    "        for row in range(0, len(data)):\n",
    "            for col in range(0, len(data[row])):\n",
    "                if data[row][col] != 0:\n",
    "                    edgelist = edgelist + str(row) + ' ' + str(col) + '\\n'\n",
    "        d = listfile.write(edgelist)\n",
    "        listfile.close()"
   ]
  },
  {
   "cell_type": "code",
   "execution_count": 12,
   "id": "03b538fb-963f-4fdd-b7a6-2cb3cc4dee64",
   "metadata": {},
   "outputs": [],
   "source": [
    "# takes in a graph G and returns a list of network statistics\n",
    "def gather_network_stats(G):\n",
    "    def compute_MGD(G):\n",
    "        path = list((dict(nx.all_pairs_shortest_path_length(G)).values())) #takes return and converts to list of dicts\n",
    "        Z = 0\n",
    "        l_sum = 0\n",
    "\n",
    "        for node in path:\n",
    "            tmp = list(node.values()) #convert node dict to list of values\n",
    "            tmp.remove(0) #remove all instances of 0\n",
    "            Z = Z + len(tmp) #calculate Z from size of list\n",
    "            l_sum = l_sum + sum(tmp) #add all the path lengths to the total for the numerator later on\n",
    "\n",
    "        MGD = l_sum / Z\n",
    "        return MGD\n",
    "    \n",
    "    def percent_single_degree(G): #gets percentage of nodes with degree of one, as these edge suggest specialized predation\n",
    "        degrees = dict(G.degree())\n",
    "        degrees = list(degrees.values())\n",
    "        single_degree_count = 0\n",
    "        for k in degrees:\n",
    "            if k == 1:\n",
    "                single_degree_count += 1\n",
    "        return single_degree_count / G.number_of_nodes()\n",
    "\n",
    "    def count_FFBL_motifs(G,flag):\n",
    "        FFL_count = 0\n",
    "        FBL_count = 0\n",
    "\n",
    "        ### MY CODE ###\n",
    "        FFL_pairs = [] #lists that will contain pairs for later printing if flag == 1\n",
    "        FBL_pairs = []\n",
    "\n",
    "        for i in G.nodes(): #loop for suggested enumeration\n",
    "            for j in G.neighbors(i): #paths of length 1\n",
    "                for k in G.neighbors(j): #paths of length 2\n",
    "                    if (i != k): #eliminate bidirectionals\n",
    "                        if (G.has_edge(i, k)): #if there is an edge from i -> k, it is a FFL\n",
    "                            FFL_count += 1\n",
    "                            FFL_pairs.append(((i,j), (j,k), (i,k)))\n",
    "                        if (G.has_edge(k, i)): #if there is an edge from k -> i, it is a FBL\n",
    "                            FBL_count += 1\n",
    "                            FBL_pairs.append(((i,j), (j,k), (k,i)))\n",
    "\n",
    "        FBL_count = int(FBL_count / 3) #divide FBL_count by 3 to retroactively account for duplicates\n",
    "\n",
    "        if (flag == 1): #print flag\n",
    "            for i in FFL_pairs:\n",
    "                print(\"FFL: \", i)\n",
    "            FBL_pairs = FBL_pairs[::3] #takes every third element to get rid of duplicates (kinda jank but it works)\n",
    "            for i in FBL_pairs:\n",
    "                print(\"FBL:\", i)\n",
    "\n",
    "        return (FFL_count,FBL_count)\n",
    "    \n",
    "    n = G.number_of_nodes() #builtin function that returns number of nodes as an int\n",
    "    m = G.number_of_edges() #builtin funciton that reutnrs number of edges as an int\n",
    "    \n",
    "    degrees = dict(G.degree())\n",
    "    totalDegrees = sum(degrees.values()) #get values, sum, divide by number of nodes\n",
    "    kmean =  totalDegrees / n #calculate mean\n",
    "    \n",
    "    degree_lst = list(degrees.values())\n",
    "    kmax = max(degree_lst)\n",
    "    \n",
    "    C = nx.transitivity(G)\n",
    "    node_connectivity = nx.node_connectivity(G)\n",
    "    MGD = compute_MGD(G)\n",
    "    triangles = sum(nx.triangles(G).values()) / 3\n",
    "    FFL_count, FBL_count = count_FFBL_motifs(G, 0)\n",
    "    specialized_nodes = percent_single_degree(G)\n",
    "    return [n, m, kmean, kmax, C, node_connectivity, MGD, triangles, FFL_count, FBL_count, specialized_nodes]"
   ]
  },
  {
   "cell_type": "code",
   "execution_count": 4,
   "id": "53b3660d-60b7-40df-8168-74583437e5c5",
   "metadata": {},
   "outputs": [],
   "source": [
    "def get_temp(filename):\n",
    "    # returns temperature as a float\n",
    "    df = pd.read_csv(\"our_references.csv\")\n",
    "    temp = df[[\"Filename\", \"Temperature\"]]\n",
    "    temperature = temp.loc[temp[\"Filename\"] == filename,\"Temperature\"].iloc[0]\n",
    "    return float(temperature)"
   ]
  },
  {
   "cell_type": "code",
   "execution_count": 20,
   "id": "98b3076c-324b-4b37-9d93-33d67f2470fe",
   "metadata": {},
   "outputs": [],
   "source": [
    "def get_correlation_coefficients(data_array):\n",
    "    # returns correlation coefficients as a list\n",
    "    df = pd.DataFrame(data_array, columns = ['network', \"nodes\", \"degrees\", 'average degrees', 'highest degree', 'Cluster Coeff', 'connectivity', 'MGD', 'triangles', 'FFL', 'FBL', 'special nodes', 'Temperature'])\n",
    "    correlations = df.corr()['Temperature'][:-1]\n",
    "    return correlations #this line for returning as dataframe\n",
    "    #return correlations.to_numpy()\n",
    "    "
   ]
  },
  {
   "cell_type": "code",
   "execution_count": 18,
   "id": "5137335a-eff1-45ac-a0f4-b0e84beee152",
   "metadata": {},
   "outputs": [],
   "source": [
    "# iterates through networks directory and reads each in as networkx graph G\n",
    "directory = 'networks'\n",
    "data = []\n",
    "show = True\n",
    "for filename in os.scandir(directory):\n",
    "    filename = filename.name\n",
    "    name, ext = os.path.splitext(filename)\n",
    "    ext = str(ext)[0:4]\n",
    "    if ext == '.txt' and filename != 'README':\n",
    "        G = nx.read_edgelist(directory + '/' + filename)\n",
    "        network_stats = [filename]\n",
    "        network_stats = network_stats + gather_network_stats(G)\n",
    "        network_stats.append(get_temp(filename[:-4]))\n",
    "        data.append(network_stats)\n",
    "        if show:\n",
    "            net = Network(notebook = True)\n",
    "            net.from_nx(G)\n",
    "            net.show(\"test.html\")\n",
    "            show = False\n",
    "    # nx.draw(G)\n",
    "    # plt.show()"
   ]
  },
  {
   "cell_type": "code",
   "execution_count": 21,
   "id": "f6479331-5f5f-4c12-a134-552e8af25d24",
   "metadata": {},
   "outputs": [
    {
     "data": {
      "text/plain": [
       "nodes              0.357052\n",
       "degrees            0.222279\n",
       "average degrees   -0.146099\n",
       "highest degree     0.421098\n",
       "Cluster Coeff     -0.423891\n",
       "connectivity       0.296302\n",
       "MGD               -0.260248\n",
       "triangles          0.058482\n",
       "FFL                0.059989\n",
       "FBL                0.060005\n",
       "special nodes     -0.169698\n",
       "Name: Temperature, dtype: float64"
      ]
     },
     "execution_count": 21,
     "metadata": {},
     "output_type": "execute_result"
    }
   ],
   "source": [
    "get_correlation_coefficients(data)"
   ]
  },
  {
   "cell_type": "code",
   "execution_count": 29,
   "id": "9ae83ab9",
   "metadata": {},
   "outputs": [
    {
     "name": "stdout",
     "output_type": "stream",
     "text": [
      "[64.40785727]\n",
      "network            FW_017_03.txt\n",
      "nodes                        143\n",
      "degrees                      857\n",
      "average degrees        11.986014\n",
      "highest degree               116\n",
      "Cluster Coeff           0.174472\n",
      "connectivity                   1\n",
      "MGD                     2.009948\n",
      "triangles                 1956.0\n",
      "FFL                        12474\n",
      "FBL                         4158\n",
      "special nodes           0.062937\n",
      "Temperature                 76.8\n",
      "Name: 29, dtype: object\n"
     ]
    }
   ],
   "source": [
    "df = pd.DataFrame(data, columns = ['network', \"nodes\", \"degrees\", 'average degrees', 'highest degree', 'Cluster Coeff', 'connectivity', 'MGD', 'triangles', 'FFL', 'FBL', 'special nodes', 'Temperature'])\n",
    "X = df[['nodes', 'degrees', 'average degrees', 'highest degree', 'Cluster Coeff', 'connectivity', 'MGD']]\n",
    "y = df['Temperature']\n",
    "\n",
    "trainingX = X.iloc[0:28]\n",
    "trainingY = y.iloc[0:28]\n",
    "regr = linear_model.LinearRegression()\n",
    "regr.fit(trainingX, trainingY)\n",
    "\n",
    "#predict the CO2 emission of a car where the weight is 2300kg, and the volume is 1300cm3:\n",
    "predictedTemp = regr.predict([X.iloc[29]])\n",
    "\n",
    "print(predictedTemp) \n",
    "print(df.iloc[29])\n",
    "#alright its over"
   ]
  }
 ],
 "metadata": {
  "kernelspec": {
   "display_name": "Python 3 (ipykernel)",
   "language": "python",
   "name": "python3"
  },
  "language_info": {
   "codemirror_mode": {
    "name": "ipython",
    "version": 3
   },
   "file_extension": ".py",
   "mimetype": "text/x-python",
   "name": "python",
   "nbconvert_exporter": "python",
   "pygments_lexer": "ipython3",
   "version": "3.9.7"
  }
 },
 "nbformat": 4,
 "nbformat_minor": 5
}
